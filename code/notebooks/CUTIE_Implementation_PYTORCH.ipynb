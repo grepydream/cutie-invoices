{
 "cells": [
  {
   "cell_type": "markdown",
   "metadata": {
    "colab_type": "text",
    "id": "cS2A_H4holD_"
   },
   "source": [
    "# CUTIE - Yahiathen ABBACHE\n",
    "## Abstract\n",
    "In order to detect and extract total amount TTC information on receipt document, we will train a deep learnig model with a labeled database containing the receipts and their corresponding labels (which are in our case mask*). In the following section, some tasks are enumerated. \n",
    "\n",
    "\n",
    "\n",
    "1.   Annotate the receipts in order to build the masks (Labels), for this task we will use LabelImg (https://github.com/tzutalin/labelImg).\n",
    "2. As the textual information is nedded, we will process OCR to extract the text from the images. We will use Pytesseract.(https://pypi.org/project/pytesseract/)\n",
    "3.  Doing some feature engineering on the text (Cleaning, tokenization ...), Nltk and gensim ar used.\n",
    "4. Pytorch transformation, PIL and CV2 are used to process the images (receipts and grids)\n",
    "5. Pytorch is used to train the deep learning model.\n",
    "\n",
    "\n",
    "\n",
    "\n",
    "\n",
    "\n",
    "\n",
    "mask*: image with 1 for the position of 'total' in the receipt, and 0 elsewhere.\n",
    "\n",
    "\n",
    "## Improvements:\n",
    "1. Data augmentation by preprocessing the receipts (Flip, shift texts, ...)\n",
    "2. Use images with larger size (128 in the experiment for feasibility convenience)\n",
    "3. Trainig a model to enhance OCR.\n",
    "4. Optimize the preprocessings on the images.\n",
    "5. Use Regularisation to avoid overfitting.\n",
    "6. Use another loss function (dice, ...), as labels ar imbalanced, or weightning the labels.\n",
    "7. Grid search Hyperparameters (Batch, lr, optimizer ... ).\n",
    "\n",
    "\n",
    "\n",
    "\n"
   ]
  },
  {
   "cell_type": "markdown",
   "metadata": {
    "colab_type": "text",
    "id": "RqoSvGawouVP"
   },
   "source": [
    "### Setting the environment"
   ]
  },
  {
   "cell_type": "code",
   "execution_count": null,
   "metadata": {
    "colab": {},
    "colab_type": "code",
    "id": "mGQ2KDi1FN9S"
   },
   "outputs": [],
   "source": [
    "%%capture\n",
    "!pip install pytesseract\n",
    "!sudo apt install tesseract-ocr"
   ]
  },
  {
   "cell_type": "code",
   "execution_count": null,
   "metadata": {
    "colab": {
     "base_uri": "https://localhost:8080/",
     "height": 69
    },
    "colab_type": "code",
    "executionInfo": {
     "elapsed": 21729,
     "status": "ok",
     "timestamp": 1595835833414,
     "user": {
      "displayName": "Yahiathen ABBACHE",
      "photoUrl": "https://lh3.googleusercontent.com/a-/AOh14GgyPcNFPBqBaUrpJyST1pWq1vW9Vamct6EjJ_UYyQ=s64",
      "userId": "07133521080478303507"
     },
     "user_tz": -120
    },
    "id": "90Zi-LxlfGBf",
    "outputId": "026860d6-6b1d-4cbf-b180-21b131fc837f"
   },
   "outputs": [
    {
     "name": "stdout",
     "output_type": "stream",
     "text": [
      "[nltk_data] Downloading package punkt to /root/nltk_data...\n",
      "[nltk_data]   Unzipping tokenizers/punkt.zip.\n"
     ]
    },
    {
     "data": {
      "text/plain": [
       "<torch._C.Generator at 0x7f0dbbbcdc50>"
      ]
     },
     "execution_count": 3,
     "metadata": {
      "tags": []
     },
     "output_type": "execute_result"
    }
   ],
   "source": [
    "import pandas as pd\n",
    "from PIL import Image\n",
    "from xml.etree import ElementTree\n",
    "import numpy as np\n",
    "import cv2\n",
    "from matplotlib.pyplot import imshow\n",
    "from matplotlib import cm\n",
    "\n",
    "import torch\n",
    "import torch.nn.functional as F\n",
    "import torch.nn as nn\n",
    "from torch import optim\n",
    "import torch.utils.data\n",
    "from torch.utils.tensorboard import SummaryWriter\n",
    "from torch.utils.data import DataLoader, random_split\n",
    "from torchvision import transforms\n",
    "\n",
    "\n",
    "# import libraries\n",
    "import os\n",
    "import matplotlib.pyplot as plt\n",
    "from google.colab.patches import cv2_imshow\n",
    "\n",
    "try:\n",
    " from PIL import Image\n",
    "except ImportError:\n",
    " import Image\n",
    "import cv2\n",
    "import pytesseract\n",
    "import numpy as np\n",
    "from pytesseract import Output\n",
    "\n",
    "pytesseract.pytesseract.tesseract_cmd = (\n",
    "    r'/usr/bin/tesseract'\n",
    ")\n",
    "\n",
    "from nltk.tokenize import  word_tokenize \n",
    "import nltk\n",
    "nltk.download('punkt')\n",
    "\n",
    "\n",
    "import gensim\n",
    "from gensim import corpora\n",
    "\n",
    "import argparse\n",
    "import logging\n",
    "import os\n",
    "import sys\n",
    "\n",
    "\n",
    "from tqdm import tqdm\n",
    "import random\n",
    "\n",
    "import time\n",
    "\n",
    "random.seed(1)\n",
    "np.random.seed(1)\n",
    "torch.manual_seed(1)"
   ]
  },
  {
   "cell_type": "code",
   "execution_count": null,
   "metadata": {
    "colab": {},
    "colab_type": "code",
    "id": "H4ZSWkbu5Pkt"
   },
   "outputs": [],
   "source": [
    "IMAGE_SIZE = 128\n",
    "# path to directory with receipts and xmls directories\n",
    "# data_path\n",
    "#   |_receipts\n",
    "#   |_xmls (Output of LabelImg software)\n",
    "data_path = \"/content/drive/My Drive/CUTIE_TEST\"\n"
   ]
  },
  {
   "cell_type": "code",
   "execution_count": null,
   "metadata": {
    "colab": {},
    "colab_type": "code",
    "id": "teWfqJXwpyLj"
   },
   "outputs": [],
   "source": [
    "device = 'cpu'\n",
    "\n",
    "EMBEDDING_SIZE = 32\n",
    "IN_CHANNELS = 3\n",
    "NB_CLASS = 2\n",
    "\n",
    "lr=0.001\n",
    "momentum=0.9\n",
    "batch_size = 4\n",
    "NB_EPOCH = 15\n",
    "\n",
    "val_percent = 0.1\n",
    "\n",
    "# Create the dataset \n",
    "dataset = ReceiptsDataset(root=data_path, transforms = apply_transformations)\n",
    "\n",
    "# Dataloader in order to iterate over the dataset (Batch)\n",
    "dataloader = DataLoader(dataset, batch_size=batch_size, shuffle=True, sampler=None,\n",
    "           batch_sampler=None, num_workers=0, collate_fn=None,\n",
    "           pin_memory=False, drop_last=False, timeout=0,\n",
    "           worker_init_fn=None,)\n",
    "\n",
    "# Vocab size for the embedding layer\n",
    "VOCAB_SIZE = len(dataset.dictionary.token2id)*255\n",
    "\n",
    "# Split data to (Train, Eval)\n",
    "n_val = int(len(dataset) * val_percent)\n",
    "n_train = len(dataset) - n_val\n",
    "train, val = random_split(dataset, [n_train, n_val])\n",
    "train_loader = DataLoader(train, batch_size=batch_size, shuffle=True, num_workers=8, pin_memory=True)\n",
    "val_loader = DataLoader(val, batch_size=batch_size, shuffle=False, num_workers=8, pin_memory=True, drop_last=True)\n",
    "\n",
    "\n",
    "train_loss_list = []\n",
    "eval_loss_list = []"
   ]
  },
  {
   "cell_type": "code",
   "execution_count": null,
   "metadata": {
    "colab": {},
    "colab_type": "code",
    "id": "W_7r9YFsqHGr"
   },
   "outputs": [],
   "source": [
    "%%capture\n",
    "start_time = time.time()\n",
    "# Building and training the model\n",
    "\n",
    "net = CUTIE()\n",
    "net.to(device)\n",
    "criterion = nn.CrossEntropyLoss()\n",
    "optimizer = optim.SGD(net.parameters(), lr=lr, momentum=momentum)\n",
    "\n",
    "for epoch in range(NB_EPOCH):  # loop over the dataset multiple times\n",
    "\n",
    "    # print(\"epoch: \", epoch)\n",
    "    running_loss = 0.0\n",
    "    for i, data in enumerate(train_loader, 0):\n",
    "        # get the inputs; data is a list of [inputs, labels]\n",
    "        images, grids, masks = data\n",
    "\n",
    "        # zero the parameter gradients\n",
    "        optimizer.zero_grad()\n",
    "\n",
    "        # forward + backward + optimize\n",
    "        outputs = net(images.to(device), grids.to(device))\n",
    "        loss = criterion(outputs.to(device), masks.squeeze(1))\n",
    "        loss.backward()\n",
    "        optimizer.step()\n",
    "\n",
    "        loss_eval = eval_net(net, val_loader)\n",
    "\n",
    "        # print(loss.item(), loss_eval)\n",
    "\n",
    "        train_loss_list.append(loss.item())\n",
    "        eval_loss_list.append(loss_eval)\n",
    "    epoch+=1\n",
    "    \n",
    "\n",
    "end_time = time.time()\n"
   ]
  },
  {
   "cell_type": "code",
   "execution_count": null,
   "metadata": {
    "colab": {},
    "colab_type": "code",
    "id": "iNQ6x_8jSSKv"
   },
   "outputs": [],
   "source": [
    "print(\"Duration: \", end_time-start_time)"
   ]
  },
  {
   "cell_type": "code",
   "execution_count": null,
   "metadata": {
    "colab": {
     "base_uri": "https://localhost:8080/",
     "height": 298
    },
    "colab_type": "code",
    "executionInfo": {
     "elapsed": 552,
     "status": "ok",
     "timestamp": 1595842974678,
     "user": {
      "displayName": "Yahiathen ABBACHE",
      "photoUrl": "https://lh3.googleusercontent.com/a-/AOh14GgyPcNFPBqBaUrpJyST1pWq1vW9Vamct6EjJ_UYyQ=s64",
      "userId": "07133521080478303507"
     },
     "user_tz": -120
    },
    "id": "q8sMLh55qHQD",
    "outputId": "4f7a5624-cbde-4521-ec98-2aef2fb90e2f"
   },
   "outputs": [
    {
     "data": {
      "text/plain": [
       "Text(0.5, 1.0, 'Cross entropie loss evolution during train process')"
      ]
     },
     "execution_count": 15,
     "metadata": {
      "tags": []
     },
     "output_type": "execute_result"
    },
    {
     "data": {
      "image/png": "[encoded data removed]",
      "text/plain": [
       "<Figure size 432x288 with 1 Axes>"
      ]
     },
     "metadata": {
      "needs_background": "light",
      "tags": []
     },
     "output_type": "display_data"
    }
   ],
   "source": [
    "plt.plot(train_loss_list, label=\"train loss\")\n",
    "plt.plot(eval_loss_list, label=\"val loss\")\n",
    "plt.legend()\n",
    "plt.title(\"Cross entropie loss evolution during train process\")\n",
    "\n"
   ]
  },
  {
   "cell_type": "code",
   "execution_count": null,
   "metadata": {
    "colab": {},
    "colab_type": "code",
    "id": "FV7pbZC25PYA"
   },
   "outputs": [],
   "source": []
  },
  {
   "cell_type": "markdown",
   "metadata": {
    "colab_type": "text",
    "id": "sYEz2Gk9MZ6R"
   },
   "source": [
    "# Performing a test with a receipt"
   ]
  },
  {
   "cell_type": "code",
   "execution_count": null,
   "metadata": {
    "colab": {},
    "colab_type": "code",
    "id": "sn2IcAw25PLS"
   },
   "outputs": [],
   "source": [
    "receipt_sample = \"/content/drive/My Drive/CUTIE_TEST/receipts/1098-receipt.jpg\"\n",
    "net.eval()\n",
    "\n",
    "img = Image.open(receipt_sample).convert(\"RGB\")\n",
    "w,h = img.size\n",
    "grid, dictionary = get_grid(img, dataset.dictionary)\n",
    "\n",
    "grid = Image.fromarray(np.uint8(cm.gist_earth(grid)*255)).convert(\"L\")\n",
    "\n",
    "\n",
    "img_trans = transforms.Compose([\n",
    "    transforms.Resize((IMAGE_SIZE, IMAGE_SIZE)),\n",
    "    transforms.ToTensor(),\n",
    "  ])\n",
    "\n",
    "  \n",
    "grid_trans = transforms.Compose([                                   \n",
    "    transforms.Resize((IMAGE_SIZE, IMAGE_SIZE)),\n",
    "    # transforms.ToTensor()\n",
    "])\n",
    "img = img_trans(img)\n",
    "\n",
    "grid = grid_trans(grid)\n",
    "\n",
    "img = torch.as_tensor(np.array(img), dtype=torch.float32)\n",
    "grid = torch.as_tensor(np.array(grid), dtype=torch.long)\n",
    "\n",
    "img = img.unsqueeze(0)\n",
    "grid = grid.unsqueeze(0)\n"
   ]
  },
  {
   "cell_type": "code",
   "execution_count": null,
   "metadata": {
    "colab": {
     "base_uri": "https://localhost:8080/",
     "height": 162
    },
    "colab_type": "code",
    "executionInfo": {
     "elapsed": 478,
     "status": "ok",
     "timestamp": 1595842980993,
     "user": {
      "displayName": "Yahiathen ABBACHE",
      "photoUrl": "https://lh3.googleusercontent.com/a-/AOh14GgyPcNFPBqBaUrpJyST1pWq1vW9Vamct6EjJ_UYyQ=s64",
      "userId": "07133521080478303507"
     },
     "user_tz": -120
    },
    "id": "KHLbv5JypI1A",
    "outputId": "c3b44f61-9231-4e10-a9ff-948690d0da9e"
   },
   "outputs": [
    {
     "name": "stdout",
     "output_type": "stream",
     "text": [
      "(1, 128, 128)\n"
     ]
    },
    {
     "data": {
      "image/png": "[encoded data removed]",
      "text/plain": [
       "<PIL.Image.Image image mode=RGB size=128x128 at 0x7F0DA6C37550>"
      ]
     },
     "metadata": {
      "tags": []
     },
     "output_type": "display_data"
    }
   ],
   "source": [
    "with torch.no_grad():\n",
    "  mask_pred = net(img, grid)\n",
    "  mask_np = np.argmax(mask_pred.numpy(),1)\n",
    "  print(mask_np.shape)\n",
    "  mask_np = np.transpose(mask_np, (1,0,2))\n",
    "  mask_np = np.transpose(mask_np, (0,2,1))\n",
    "\n",
    "  cv2_imshow(mask_np)\n"
   ]
  },
  {
   "cell_type": "code",
   "execution_count": null,
   "metadata": {
    "colab": {},
    "colab_type": "code",
    "id": "5oAfLL3cpJCT"
   },
   "outputs": [],
   "source": []
  },
  {
   "cell_type": "code",
   "execution_count": null,
   "metadata": {
    "colab": {},
    "colab_type": "code",
    "id": "QYPBDgh1pI_p"
   },
   "outputs": [],
   "source": []
  },
  {
   "cell_type": "markdown",
   "metadata": {
    "colab_type": "text",
    "id": "Hg61jBB2qIoC"
   },
   "source": [
    "## Analyze:\n",
    "The model have converged to optimal (Local) solution, as the loss error seems to converge around 0.1.\n",
    "In contrast, our labels are imbalanced the model have surelly learned to predict 0 in order to minimize the training loss, so we need to experiment another loss function (dice, or CE with weights, Intersection over Union for the evaluation ....), which handles imbalanced labels.[texte du lien](https://)   "
   ]
  },
  {
   "cell_type": "code",
   "execution_count": null,
   "metadata": {
    "colab": {},
    "colab_type": "code",
    "id": "x0bAdv92pI87"
   },
   "outputs": [],
   "source": []
  },
  {
   "cell_type": "code",
   "execution_count": null,
   "metadata": {},
   "outputs": [],
   "source": []
  },
  {
   "cell_type": "markdown",
   "metadata": {
    "colab_type": "text",
    "id": "F3q90NhRpL0F"
   },
   "source": [
    "# Pytorch definitions Section \n",
    "\n",
    "## Dataset\n",
    "torch.utils.data.Dataset is an abstract class representing a dataset, our receipt dataset should inherit Dataset and override the following methods:\n",
    "\n",
    "    __len__ so that len(dataset) returns the size of the dataset.\n",
    "    __getitem__ to support the indexing such that dataset[i] can be used to get i\n",
    "\n",
    "Let’s create a dataset class for our receipts dataset. We will load the filepaths in __init__ but leave the reading of images to __getitem__. This is memory efficient because all the images are not stored in the memory at once but read as required.\n",
    "\n",
    "Our dataset will take an optional argument transform so that the processing on the images (resize, create the grids) can be applied on the sample.\n",
    "\n",
    "\n"
   ]
  },
  {
   "cell_type": "code",
   "execution_count": null,
   "metadata": {
    "colab": {},
    "colab_type": "code",
    "id": "fD88wIHmpKLF"
   },
   "outputs": [],
   "source": [
    "class ReceiptsDataset(torch.utils.data.Dataset):\n",
    "\n",
    "    def __init__(self, root, transforms=None):\n",
    "\n",
    "        self.root = root\n",
    "        self.transforms = transforms\n",
    "\n",
    "        self.imgs = sorted([path for path in os.listdir(os.path.join(root, \"receipts\")) if path.endswith(\".jpg\")])\n",
    "\n",
    "        #load bounding coordinates\n",
    "        self.xmls = sorted([path for path in os.listdir(os.path.join(root, \"xmls\")) if path.endswith(\".xml\")])\n",
    "\n",
    "        len_min = min(len(self.imgs), len(self.xmls))\n",
    "        self.imgs = self.imgs[:len_min]\n",
    "        self.xmls = self.xmls[:len_min]\n",
    "\n",
    "        self.dictionary = corpora.Dictionary([])\n",
    "\n",
    "\n",
    "    def __getitem__(self, idx):\n",
    "\n",
    "        \"\"\"\n",
    "        This function is the core component of dataset structure, as we read the \n",
    "        image build its corresponding mask and grid.\n",
    " \n",
    "        \"\"\"\n",
    "\n",
    "        # load images ad masks\n",
    "        img_path = os.path.join(os.path.join(self.root, \"receipts\"), self.imgs[idx])\n",
    "        xml_path = os.path.join(os.path.join(self.root, \"xmls\"), self.xmls[idx])\n",
    "\n",
    "        img = Image.open(img_path).convert(\"RGB\")\n",
    "        w,h = img.size\n",
    "\n",
    "        # 0: other, 1: total: boxes\n",
    "        boxes = get_boxes(xml_path)\n",
    "        grid, self.dictionary = get_grid(img, self.dictionary)\n",
    "        mask = get_mask(boxes, w, h)\n",
    "\n",
    "        mask = Image.fromarray(np.uint8(cm.gist_earth(mask)*255)).convert(\"L\")\n",
    "\n",
    "        grid = Image.fromarray(np.uint8(cm.gist_earth(grid)*255)).convert(\"L\")\n",
    "\n",
    "        if self.transforms is not None:\n",
    "            img, grid, mask = self.transforms(img, grid, mask)\n",
    "\n",
    "        mask = np.where(np.array(mask)>0,1,0)\n",
    "\n",
    "\n",
    "        img = torch.as_tensor(np.array(img), dtype=torch.float32)\n",
    "        mask = torch.as_tensor(mask, dtype=torch.long).unsqueeze(0)\n",
    "        grid = torch.as_tensor(np.array(grid), dtype=torch.long)\n",
    "\n",
    "        return img, grid, mask\n",
    "        \n",
    "\n",
    "\n",
    "    def __len__(self):\n",
    "        return len(self.imgs)"
   ]
  },
  {
   "cell_type": "markdown",
   "metadata": {
    "colab_type": "text",
    "id": "3E6joH8w7kLq"
   },
   "source": [
    "# CUTIE - B Model\n",
    "\n",
    "In this section, we define the architecture of the model taking the CUTIE paper as a reference.\n"
   ]
  },
  {
   "cell_type": "code",
   "execution_count": null,
   "metadata": {
    "colab": {},
    "colab_type": "code",
    "id": "I4bYj94R5PGg"
   },
   "outputs": [],
   "source": [
    "class CUTIE(nn.Module):\n",
    "\n",
    "  def __init__(self):\n",
    "    super(CUTIE, self).__init__()\n",
    "    self.OUT_CHANNELS = 32\n",
    "    self.EMBEDDING_SIZE = EMBEDDING_SIZE\n",
    "    self.NB_CLASS = NB_CLASS\n",
    "\n",
    "\n",
    "    #grid\n",
    "    self.embedding_layer = nn.Embedding(VOCAB_SIZE, EMBEDDING_SIZE)\n",
    "    self.avgPool = nn.AdaptiveAvgPool2d((64,64))\n",
    "    self.avgPoolFinal = nn.AdaptiveAvgPool2d((IMAGE_SIZE,IMAGE_SIZE))\n",
    "\n",
    "\n",
    "    self.conv1_1 = nn.Conv2d(self.EMBEDDING_SIZE+self.OUT_CHANNELS,self.EMBEDDING_SIZE+self.OUT_CHANNELS, 1, 1 )\n",
    "    self.conv1_1_layer_2 = nn.Conv2d(4*self.OUT_CHANNELS,4*self.OUT_CHANNELS, 1, 1 )\n",
    "    self.conv_layer_3 = nn.Conv2d(5*self.OUT_CHANNELS,16, 3, 1, 1 )\n",
    "    self.conv1_1_layer_4 = nn.Conv2d(16, self.NB_CLASS, 1, 1 )\n",
    "\n",
    "\n",
    "\n",
    "\n",
    "    #image\n",
    "    self.conv_layer_1 = nn.Sequential(\n",
    "        nn.Conv2d(IN_CHANNELS,self.OUT_CHANNELS,3, stride=1),\n",
    "        nn.BatchNorm2d(self.OUT_CHANNELS),\n",
    "        nn.ReLU()\n",
    "    )\n",
    "\n",
    "    self.conv_block = nn.Sequential(\n",
    "          nn.Conv2d(self.OUT_CHANNELS,self.OUT_CHANNELS,3, stride=1),\n",
    "          nn.BatchNorm2d(self.OUT_CHANNELS),\n",
    "          \n",
    "          nn.ReLU(),\n",
    "          \n",
    "          nn.Conv2d(self.OUT_CHANNELS,self.OUT_CHANNELS,3, stride=1),\n",
    "          nn.BatchNorm2d(self.OUT_CHANNELS),\n",
    "          nn.ReLU(),\n",
    "          \n",
    "          nn.Conv2d(self.OUT_CHANNELS,self.OUT_CHANNELS,3, stride=2),\n",
    "          nn.BatchNorm2d(self.OUT_CHANNELS),\n",
    "          nn.ReLU()\n",
    "        )\n",
    "    \n",
    "    self.atrous_block = nn.Sequential(\n",
    "        nn.Conv2d(self.OUT_CHANNELS+self.EMBEDDING_SIZE, self.OUT_CHANNELS, 3, stride = 1, padding = 0, dilation=2),\n",
    "        nn.ReLU(),\n",
    "        \n",
    "        nn.Conv2d(self.OUT_CHANNELS, self.OUT_CHANNELS, 3, stride = 1, padding = 0, dilation=2),\n",
    "        nn.ReLU(),\n",
    "        \n",
    "        nn.Conv2d(self.OUT_CHANNELS, self.OUT_CHANNELS, 3, stride = 1, padding = 0, dilation=2),\n",
    "        nn.ReLU(),\n",
    "\n",
    "        nn.Conv2d(self.OUT_CHANNELS, self.OUT_CHANNELS, 3, stride = 1, padding = 0, dilation=2),\n",
    "        nn.BatchNorm2d(self.OUT_CHANNELS),\n",
    "        nn.ReLU()\n",
    "  \n",
    "    )\n",
    "\n",
    "\n",
    "    #aspp\n",
    "    self.aspp_layer_1 = nn.Conv2d(self.OUT_CHANNELS, self.OUT_CHANNELS, 7, stride=1, dilation=4)\n",
    "    self.aspp_layer_2 = nn.Conv2d(self.OUT_CHANNELS, self.OUT_CHANNELS, 5, padding=1, dilation=8)\n",
    "    self.aspp_layer_3 = nn.Conv2d(self.OUT_CHANNELS, self.OUT_CHANNELS, 3, padding=1, dilation=16)\n",
    "\n",
    "\n",
    "\n",
    "\n",
    "  def forward(self, images, grids):\n",
    "\n",
    "    # grid\n",
    "    embed = self.embedding_layer(grids)\n",
    "    embed_transpose = torch.transpose(embed, 2, 3)\n",
    "    embed_transpose = torch.transpose(embed_transpose, 1, 2)\n",
    "\n",
    "\n",
    "    #image\n",
    "    out_conv_layer_1 = self.conv_layer_1(images)\n",
    "\n",
    "    out_conv_block = self.conv_block(out_conv_layer_1)\n",
    "\n",
    "\n",
    "    embed_and_conv = torch.cat((self.avgPool(embed_transpose), self.avgPool(out_conv_block)), 1)\n",
    "\n",
    "    embed_and_conv = self.conv1_1(embed_and_conv)\n",
    "\n",
    "    out_atrous_block = self.atrous_block(embed_and_conv)\n",
    "\n",
    "    out_aspp_0 = self.avgPool(out_atrous_block)\n",
    "    out_aspp_1 = self.avgPool(self.aspp_layer_1(out_atrous_block))\n",
    "    out_aspp_2 = self.avgPool(self.aspp_layer_2(out_atrous_block))\n",
    "    out_aspp_3 = self.avgPool(self.aspp_layer_3(out_atrous_block))\n",
    "\n",
    "    aspp = torch.cat([out_aspp_0, out_aspp_1, out_aspp_2, out_aspp_3], dim=1)\n",
    "\n",
    "    aspp = self.avgPoolFinal(aspp)\n",
    "    aspp = self.conv1_1_layer_2(aspp)\n",
    "    first_layer = self.avgPoolFinal(out_conv_layer_1)\n",
    "    \n",
    "    aspp_and_first_layer = torch.cat([first_layer, aspp], dim=1)\n",
    "\n",
    "    aspp_and_first_layer = self.conv_layer_3(aspp_and_first_layer)\n",
    "    y_hat = self.conv1_1_layer_4(aspp_and_first_layer)\n",
    "\n",
    "    return y_hat\n",
    "\n",
    "\n",
    "\n",
    "\n",
    "def eval_net(net, evalloader):\n",
    "  \"\"\"\n",
    "  Function to evaluate the model on unseen data \n",
    "  net: Network CUTIE\n",
    "  evalloader: Dataloader containig data for validation\n",
    "  \"\"\"\n",
    "  \n",
    "  net.eval()\n",
    "  loss_eval = 0\n",
    "\n",
    "  for i, data in enumerate(evalloader, 0):\n",
    "    # get the inputs; data is a list of [inputs, labels]\n",
    "    images, grids, masks = data\n",
    "\n",
    "\n",
    "    with torch.no_grad():\n",
    "      # forward \n",
    "      outputs = net(images.to(device), grids.to(device))\n",
    "      loss = criterion(outputs.to(device), masks.squeeze(1))\n",
    "\n",
    "      loss_eval+=loss.item()\n",
    "    net.train()\n",
    "    return loss_eval/len(evalloader)\n",
    "  \n",
    "def apply_transformations(im, grid, mask):\n",
    "\n",
    "  img_trans = transforms.Compose([\n",
    "    transforms.Resize((IMAGE_SIZE, IMAGE_SIZE)),\n",
    "    transforms.ToTensor(),\n",
    "  ])\n",
    "\n",
    "  mask_trans = transforms.Compose([                                   \n",
    "    transforms.Resize((IMAGE_SIZE, IMAGE_SIZE)),\n",
    "    # transforms.ToTensor()\n",
    "            \n",
    "  ])\n",
    "  \n",
    "  grid_trans = transforms.Compose([                                   \n",
    "    transforms.Resize((IMAGE_SIZE, IMAGE_SIZE)),\n",
    "    # transforms.ToTensor()\n",
    "            \n",
    "  ])\n",
    "\n",
    "  return img_trans(im), grid_trans(grid), mask_trans(mask)\n",
    "\n",
    "def get_boxes(xml_path):\n",
    "    tree = ElementTree.parse(xml_path)\n",
    "    parsed = tree.getroot()\n",
    "\n",
    "    boxes = []\n",
    "\n",
    "    for obj in parsed.findall(\"object\"):\n",
    "\n",
    "        xmin = int(obj.find(\"bndbox/xmin\").text)\n",
    "        ymin = int(obj.find(\"bndbox/ymin\").text)\n",
    "        xmax = int(obj.find(\"bndbox/xmax\").text)\n",
    "        ymax = int(obj.find(\"bndbox/ymax\").text)\n",
    "\n",
    "        boxes.append([xmin, ymin, xmax, ymax])\n",
    "    return boxes\n",
    "\n",
    "\n",
    "def get_mask(boxes, w, h):\n",
    "    \n",
    "    mask = np.zeros((h, w))\n",
    "    positive_label = 1\n",
    "\n",
    "    for xmin, ymin, xmax, ymax in boxes:\n",
    "        mask[ymin: ymax, xmin: xmax] = positive_label\n",
    "\n",
    "    return mask"
   ]
  },
  {
   "cell_type": "markdown",
   "metadata": {
    "colab_type": "text",
    "id": "FkEEqVXX9-Vj"
   },
   "source": [
    "# Utils"
   ]
  },
  {
   "cell_type": "markdown",
   "metadata": {
    "colab_type": "text",
    "id": "GFV7qB_W_Ewq"
   },
   "source": [
    "# GRID\n",
    "Among the most important concepts of the approach described in the paper is the use of a grid.\n",
    "In order to take in account the spatial information of the receipt we provide the model with a grid containig tokens (word representation), in the same order as the image.\n",
    "\n",
    "1.   Preprocess the image for OCR\n",
    "2.   We extract the text with OCR (Pytesseract)\n",
    "3. Segment the text (Word segmentation is the problem of dividing a string into its component words)\n",
    "4.  Split verticaly the grid into the number of sentences.\n",
    "4. Split lines horizontally into the number of tokens of each line.\n",
    "5. set each box pixel with its corresponding token.\n",
    "6. Mapping the tokens to their equivalent integer using gensim \n",
    "\n",
    "\n",
    "\n"
   ]
  },
  {
   "cell_type": "code",
   "execution_count": null,
   "metadata": {
    "colab": {},
    "colab_type": "code",
    "id": "29j2DrENrkjN"
   },
   "outputs": [],
   "source": [
    "\n",
    "def get_grid(image, gensim_dictionary):\n",
    "  \n",
    "  # The number of pixels between two tokens (Horizontally)\n",
    "  STRIDE = 4\n",
    "\n",
    "  image = np.array(image)\n",
    "  img_h, img_w, _ = image.shape\n",
    "\n",
    "  grid = np.zeros((img_h, img_w))\n",
    "\n",
    "  custom_config = r'-l eng+it --psm 6'\n",
    "\n",
    "  gray = cv2.cvtColor(image, cv2.COLOR_BGR2GRAY)\n",
    "  thresh = cv2.threshold(gray, 0, 255, cv2.THRESH_BINARY + cv2.THRESH_OTSU)[1]\n",
    "\n",
    "  text = pytesseract.image_to_string(thresh, config=custom_config)\n",
    "\n",
    "\n",
    "  line_text_list = text.split(\"\\n\")\n",
    "  line_text_list_tokenized = [word_tokenize(line) for line in line_text_list]\n",
    "\n",
    "  gensim_dictionary.add_documents(line_text_list_tokenized)\n",
    "\n",
    "\n",
    "  nb_sentences = len(line_text_list_tokenized)\n",
    "  nb_token_per_line = [len(line) for line in line_text_list_tokenized]\n",
    "\n",
    " \n",
    "  bboxes_h = int((img_h - 2*nb_sentences) / nb_sentences)\n",
    "  bboxes_per_line_w = ((img_w - 2*np.array(nb_token_per_line))/np.array(nb_token_per_line)).astype(int)\n",
    "  # Building the grid\n",
    "  line_cursor = 0\n",
    "  for line_i in range(nb_sentences):\n",
    "    col_idx = 0\n",
    "\n",
    "    for token_i in line_text_list_tokenized[line_i]:\n",
    "    \n",
    "      grid[line_cursor:line_cursor+bboxes_h, col_idx:col_idx+bboxes_per_line_w[line_i]] = token2id(gensim_dictionary, token_i)\n",
    "      col_idx+=(bboxes_per_line_w[line_i]+STRIDE)\n",
    "    \n",
    "    line_cursor+=(bboxes_h+STRIDE)\n",
    "  \n",
    "  return grid, gensim_dictionary\n"
   ]
  },
  {
   "cell_type": "code",
   "execution_count": null,
   "metadata": {
    "colab": {},
    "colab_type": "code",
    "id": "ZGUm8ARpU-QR"
   },
   "outputs": [],
   "source": []
  },
  {
   "cell_type": "code",
   "execution_count": null,
   "metadata": {
    "colab": {},
    "colab_type": "code",
    "id": "uR_KF5XUfQkZ"
   },
   "outputs": [],
   "source": [
    "def token2id(gensim_dictionary, token):\n",
    "  \"\"\"\n",
    "  Models input are numerical, thus we need to map words to integers\n",
    "  function which maps tokens to integers using gensim dictionary\n",
    "  \"\"\"\n",
    "  return gensim_dictionary.token2id[token]\n"
   ]
  },
  {
   "cell_type": "code",
   "execution_count": null,
   "metadata": {
    "colab": {},
    "colab_type": "code",
    "id": "448uS-bapaNd"
   },
   "outputs": [],
   "source": []
  }
 ],
 "metadata": {
  "colab": {
   "authorship_tag": "ABX9TyPABclb6ZWFXdvwiYaMiFeQ",
   "collapsed_sections": [],
   "mount_file_id": "1-pMycLEDWg_XlyTLs8BXEgrFDJ1jPxGK",
   "name": "CUTIE_YahiathenABBACHE_PYTORCH.ipynb",
   "provenance": []
  },
  "kernelspec": {
   "display_name": "Python 3",
   "language": "python",
   "name": "python3"
  },
  "language_info": {
   "codemirror_mode": {
    "name": "ipython",
    "version": 3
   },
   "file_extension": ".py",
   "mimetype": "text/x-python",
   "name": "python",
   "nbconvert_exporter": "python",
   "pygments_lexer": "ipython3",
   "version": "3.6.9"
  }
 },
 "nbformat": 4,
 "nbformat_minor": 1
}
